{
 "cells": [
  {
   "cell_type": "markdown",
   "id": "58ec9c45",
   "metadata": {},
   "source": [
    "# Python Basics"
   ]
  },
  {
   "cell_type": "markdown",
   "id": "069ed90d",
   "metadata": {},
   "source": [
    "**Authors:** Geneva Ng and Nina Rauscher\n",
    "\n",
    "*Girls Who Code Columbia - Class 3 - Week 1 - 10/14/2023*"
   ]
  },
  {
   "cell_type": "markdown",
   "id": "38b1becc",
   "metadata": {},
   "source": [
    "## Intro to variables and data types"
   ]
  },
  {
   "cell_type": "markdown",
   "id": "264a99a3",
   "metadata": {},
   "source": [
    "Think of a variable as a \"storage box\" in the code where you can keep any value you want, like numbers or text."
   ]
  },
  {
   "cell_type": "code",
   "execution_count": 1,
   "id": "e1fa7477",
   "metadata": {},
   "outputs": [],
   "source": [
    "name = \"Geneva\"\n",
    "age = 21"
   ]
  },
  {
   "cell_type": "markdown",
   "id": "7341ee48",
   "metadata": {},
   "source": [
    "On the **left** is the **name of the variable**, and on the **right** is the **value the variable has**. There are a few main data types used in Python, and we'll go over what you can do with all of them."
   ]
  },
  {
   "cell_type": "markdown",
   "id": "22e6f021",
   "metadata": {},
   "source": [
    "**INTEGERS (or \"ints\")**\n",
    "\n",
    "Integers are whole numbers. Not decimals, not fractions, but whole numbers. They can be positive or negative."
   ]
  },
  {
   "cell_type": "code",
   "execution_count": 2,
   "id": "490def1f",
   "metadata": {},
   "outputs": [],
   "source": [
    "age = 21"
   ]
  },
  {
   "cell_type": "markdown",
   "id": "8a92d02f",
   "metadata": {},
   "source": [
    "**FLOATS**\n",
    "\n",
    "Floats are similar to ints, except these can have decimal places."
   ]
  },
  {
   "cell_type": "code",
   "execution_count": 3,
   "id": "432c1253",
   "metadata": {},
   "outputs": [],
   "source": [
    "gpa = 3.8"
   ]
  },
  {
   "cell_type": "markdown",
   "id": "e8fcce91",
   "metadata": {},
   "source": [
    "**STRINGS**\n",
    "\n",
    "Strings are how you store text data."
   ]
  },
  {
   "cell_type": "code",
   "execution_count": 4,
   "id": "1a50a3d2",
   "metadata": {},
   "outputs": [],
   "source": [
    "instructors = \"Geneva and Nina\"\n",
    "course = \"Girls Who Code: Intermediate Python\""
   ]
  },
  {
   "cell_type": "markdown",
   "id": "470b512f",
   "metadata": {},
   "source": [
    "**BOOLEANS**\n",
    "\n",
    "Booleans are used to store **`True` or `False`** values. This property gets its own data type because of how frequently it's used in programming and electronics. They're used to **store \"conditions\" or report back on the state of something** to determine if we should proceed, if we need to keep doing something until False turns to True, etc."
   ]
  },
  {
   "cell_type": "code",
   "execution_count": 5,
   "id": "dedf3dc2",
   "metadata": {},
   "outputs": [],
   "source": [
    "is_saturday = True"
   ]
  },
  {
   "cell_type": "markdown",
   "id": "b8a3916f",
   "metadata": {},
   "source": [
    "**SOME EXAMPLES WITH THOSE DATA TYPES**\n",
    "\n",
    "Let's use these data types in some examples to get a better idea of what we can store in them/how we can use them."
   ]
  },
  {
   "cell_type": "code",
   "execution_count": 6,
   "id": "4e89c909",
   "metadata": {},
   "outputs": [
    {
     "name": "stdout",
     "output_type": "stream",
     "text": [
      "Int Operations:\n",
      "12\n",
      "8\n",
      "20\n",
      "5.0\n",
      "2.5\n"
     ]
    }
   ],
   "source": [
    "# Integers\n",
    "print(\"Int Operations:\")\n",
    "a = 10\n",
    "b = 2\n",
    "print(a + b)  # Add: 12\n",
    "print(a - b)  # Subtract: 8\n",
    "print(a * b)  # Multiply: 20\n",
    "print(a / b)  # Divide: 5.0  (note that division always results in a float)\n",
    "print( 5 / 2 ) # Divide: 2.5"
   ]
  },
  {
   "cell_type": "code",
   "execution_count": 7,
   "id": "847282a2",
   "metadata": {},
   "outputs": [
    {
     "name": "stdout",
     "output_type": "stream",
     "text": [
      "\n",
      "Float Operations\n",
      "8.0\n",
      "3.0\n",
      "13.75\n",
      "2.2\n"
     ]
    }
   ],
   "source": [
    "# Floats\n",
    "print(\"\\nFloat Operations\")\n",
    "c = 5.5\n",
    "d = 2.5\n",
    "print(c + d)  # Add: 8.0\n",
    "print(c - d)  # Subtract: 3.0\n",
    "print(c * d)  # Multiply: 13.75\n",
    "print(c / d)  # Divide: 2.2"
   ]
  },
  {
   "cell_type": "code",
   "execution_count": 8,
   "id": "e16e6087",
   "metadata": {},
   "outputs": [
    {
     "name": "stdout",
     "output_type": "stream",
     "text": [
      "False\n",
      "False\n",
      "True\n"
     ]
    }
   ],
   "source": [
    "# Booleans\n",
    "day = True\n",
    "night = False\n",
    "\n",
    "# Logical NOT\n",
    "print(not day)\n",
    "\n",
    "# Logical AND\n",
    "print(day and night)\n",
    "\n",
    "# Logical OR\n",
    "print(day or night)"
   ]
  },
  {
   "cell_type": "markdown",
   "id": "eb8a605f",
   "metadata": {},
   "source": [
    "## Strings"
   ]
  },
  {
   "cell_type": "markdown",
   "id": "c6d605f7",
   "metadata": {},
   "source": [
    "A string is a sequence of characters. In Python, you create a string by enclosing characters in single (') or double (\") quotes."
   ]
  },
  {
   "cell_type": "markdown",
   "id": "dedfe3ff",
   "metadata": {},
   "source": [
    "**Concatenation**\n",
    "\n",
    "Concatenation is joining two strings together, one after the other."
   ]
  },
  {
   "cell_type": "code",
   "execution_count": 9,
   "id": "75f25519",
   "metadata": {},
   "outputs": [
    {
     "name": "stdout",
     "output_type": "stream",
     "text": [
      "Girls Who Code\n"
     ]
    }
   ],
   "source": [
    "first = \"Girls \"\n",
    "second = \"Who \"\n",
    "third = \"Code\"\n",
    "\n",
    "full = first + second + third\n",
    "\n",
    "print(full)"
   ]
  },
  {
   "cell_type": "markdown",
   "id": "8d0a253c",
   "metadata": {},
   "source": [
    "**Indexing**\n",
    "\n",
    "Every character in a string has a number associated with it that describes its spot in the string. This is called it's \"index\", and it starts at zero."
   ]
  },
  {
   "cell_type": "code",
   "execution_count": 10,
   "id": "a17369b5",
   "metadata": {},
   "outputs": [
    {
     "name": "stdout",
     "output_type": "stream",
     "text": [
      "p\n",
      "g\n",
      "g\n"
     ]
    }
   ],
   "source": [
    "string = \"programming\"\n",
    "\n",
    "print(string[0]) # It starts at 0, not 1!\n",
    "print(string[3])\n",
    "print(string[-1]) # -1 corresponds to the last letter"
   ]
  },
  {
   "cell_type": "markdown",
   "id": "c9a88402",
   "metadata": {},
   "source": [
    "**Slicing**\n",
    "\n",
    "You can also extract a portion of a string from a section of a longer string."
   ]
  },
  {
   "cell_type": "code",
   "execution_count": 11,
   "id": "1b0aa27c",
   "metadata": {},
   "outputs": [
    {
     "name": "stdout",
     "output_type": "stream",
     "text": [
      "car\n"
     ]
    }
   ],
   "source": [
    "string = \"racecar\"\n",
    "\n",
    "# First number is the index of the character you want to start on\n",
    "# Second number is ONE MORE than the character you want to end on (7, in this case)\n",
    "\n",
    "section = string[4:7]\n",
    "print(section)"
   ]
  },
  {
   "cell_type": "markdown",
   "id": "92c6edb1",
   "metadata": {},
   "source": [
    "## Lists"
   ]
  },
  {
   "cell_type": "markdown",
   "id": "5c42a8ba",
   "metadata": {},
   "source": [
    "A list in Python is a collection of items. Lists can contain elements of different data types and are defined by enclosing the values in square brackets [ ]."
   ]
  },
  {
   "cell_type": "code",
   "execution_count": 12,
   "id": "7da8a11f",
   "metadata": {},
   "outputs": [],
   "source": [
    "my_list = [1, 2, 3, \"Python\", 4.5, True]"
   ]
  },
  {
   "cell_type": "markdown",
   "id": "6aaaf4de",
   "metadata": {},
   "source": [
    "**Creating a List**\n",
    "\n",
    "You can create the whole thing at once, like we did above, or you can open up an empty list and add to it as you go."
   ]
  },
  {
   "cell_type": "code",
   "execution_count": 13,
   "id": "bde2f4b4",
   "metadata": {},
   "outputs": [
    {
     "name": "stdout",
     "output_type": "stream",
     "text": [
      "['coffee', 'bagel']\n"
     ]
    }
   ],
   "source": [
    "foods = []\n",
    "\n",
    "foods.append(\"coffee\")\n",
    "foods.append(\"bagel\")\n",
    "\n",
    "print(foods)"
   ]
  },
  {
   "cell_type": "markdown",
   "id": "a3216a1a",
   "metadata": {},
   "source": [
    "**Indexing & Slicing**\n",
    "\n",
    "Like with strings, you can index lists as well as slice them"
   ]
  },
  {
   "cell_type": "code",
   "execution_count": 14,
   "id": "fb2ee925",
   "metadata": {},
   "outputs": [
    {
     "name": "stdout",
     "output_type": "stream",
     "text": [
      "1\n",
      "4.5\n",
      "[2, 3, 'Python']\n"
     ]
    }
   ],
   "source": [
    "my_list = [1, 2, 3, \"Python\", 4.5, True]\n",
    "\n",
    "print(my_list[0])\n",
    "print(my_list[4])\n",
    "print(my_list[1:4])"
   ]
  },
  {
   "cell_type": "markdown",
   "id": "e1c71886",
   "metadata": {},
   "source": [
    "**Modifying a List**\n",
    "\n",
    "You can overwrite items in the list using their index. First, pick out the item on the list you want to overwrite, then indicate what value you want it to have."
   ]
  },
  {
   "cell_type": "code",
   "execution_count": 15,
   "id": "bca2cec8",
   "metadata": {},
   "outputs": [
    {
     "name": "stdout",
     "output_type": "stream",
     "text": [
      "['hello', 2, 3, 'Python', 4.5, True]\n"
     ]
    }
   ],
   "source": [
    "my_list = [1, 2, 3, \"Python\", 4.5, True]\n",
    "\n",
    "my_list[0] = \"hello\"\n",
    "\n",
    "print(my_list)"
   ]
  },
  {
   "cell_type": "markdown",
   "id": "2eb637dc",
   "metadata": {},
   "source": [
    "**Removing an Item from a List**\n",
    "\n",
    "You can either remove something from the end of a list by using pop(), or you can remove it based on its value."
   ]
  },
  {
   "cell_type": "code",
   "execution_count": 16,
   "id": "afc723a6",
   "metadata": {},
   "outputs": [
    {
     "name": "stdout",
     "output_type": "stream",
     "text": [
      "True\n",
      "[1, 2, 3, 'Python', 4.5]\n"
     ]
    }
   ],
   "source": [
    "my_list = [1, 2, 3, \"Python\", 4.5, True]\n",
    "\n",
    "print(my_list.pop()) # Removing the last item from the list\n",
    "print(my_list)       # Print the list to see that we removed it"
   ]
  },
  {
   "cell_type": "code",
   "execution_count": 17,
   "id": "fb3d5ddf",
   "metadata": {},
   "outputs": [
    {
     "name": "stdout",
     "output_type": "stream",
     "text": [
      "None\n",
      "[1, 2, 3, 4.5, True]\n"
     ]
    }
   ],
   "source": [
    "my_list = [1, 2, 3, \"Python\", 4.5, True]\n",
    "\n",
    "print(my_list.remove(\"Python\")) # Removing the last item from the list by name\n",
    "print(my_list)"
   ]
  },
  {
   "cell_type": "markdown",
   "id": "25649b1f",
   "metadata": {},
   "source": [
    "## Dictionaries"
   ]
  },
  {
   "cell_type": "markdown",
   "id": "cd07430a",
   "metadata": {},
   "source": [
    "A Python dictionary is a data structure that stores pairs of values where you have \"keys\" and \"values\", and each key maps to a value. There's no order to dictionaries, which means you can't index them, but they're very useful for keeping track of when two variables need to be associated with each other.\n",
    "\n",
    "**Keys** are on the left side, and they can only be strings or ints.\n",
    "\n",
    "**Values** are on the right side, and they can be whatever you want."
   ]
  },
  {
   "cell_type": "code",
   "execution_count": 18,
   "id": "4c10ccb5",
   "metadata": {},
   "outputs": [],
   "source": [
    "dictionary = {\n",
    "    'key1': 'value1',\n",
    "    'key2': 'value2',\n",
    "    'key3': 'value3',\n",
    "}"
   ]
  },
  {
   "cell_type": "markdown",
   "id": "ed073fd3",
   "metadata": {},
   "source": [
    "**Returning an Item from a Dictionary**\n",
    "\n",
    "You'd do this similarly to how you'd index an item in a list, but instead of finding a value based on its position in line, you're finding it based on its \"key\" value."
   ]
  },
  {
   "cell_type": "code",
   "execution_count": 19,
   "id": "bbae125d",
   "metadata": {},
   "outputs": [
    {
     "name": "stdout",
     "output_type": "stream",
     "text": [
      "Geneva\n",
      "21\n",
      "True\n"
     ]
    }
   ],
   "source": [
    "dictionary = {\n",
    "    'name': 'Geneva',\n",
    "    'age': 21,\n",
    "    'student': True\n",
    "}\n",
    "\n",
    "print(dictionary['name'])\n",
    "print(dictionary['age'])\n",
    "print(dictionary['student'])"
   ]
  },
  {
   "cell_type": "markdown",
   "id": "223deeca",
   "metadata": {},
   "source": [
    "**Adding + Removing Items from a Dictionary**\n",
    "\n",
    "Let's go through the code below to get an idea of how we can modify dictionaries!"
   ]
  },
  {
   "cell_type": "code",
   "execution_count": 20,
   "id": "2e0d32ac",
   "metadata": {},
   "outputs": [
    {
     "name": "stdout",
     "output_type": "stream",
     "text": [
      "Name: Alice\n",
      "Age: 30\n",
      "Occupation: Engineer\n"
     ]
    }
   ],
   "source": [
    "my_dict = {\n",
    "    'Name': 'Alice',\n",
    "    'Age': '30',\n",
    "    'Location': 'New York'\n",
    "}\n",
    "\n",
    "# Add a new key-value pair to the dictionary\n",
    "my_dict['Occupation'] = 'Engineer'\n",
    "\n",
    "# Update an existing item in the dictionary\n",
    "my_dict['Location'] = 'California'\n",
    "\n",
    "# Remove an item from the dictionary using pop, like with lists\n",
    "popped_value = my_dict.pop('Location')\n",
    "\n",
    "#Viewing a dictionary\n",
    "for key, value in my_dict.items():\n",
    "  print(key + \": \" + value)"
   ]
  },
  {
   "cell_type": "markdown",
   "id": "aecaabf8",
   "metadata": {},
   "source": [
    "**Viewing a Dictionary**\n",
    "\n",
    "Sometimes, when dictionaries get very large, or have complicated values, it's helpful to be able to view them to see what they contain. You can use the code below to view either the keys, values, or both."
   ]
  },
  {
   "cell_type": "code",
   "execution_count": 22,
   "id": "7b3e076b",
   "metadata": {},
   "outputs": [
    {
     "name": "stdout",
     "output_type": "stream",
     "text": [
      "name\n",
      "age\n",
      "height\n",
      "is_student\n",
      "grades\n",
      "hobbies\n",
      "fav_number\n",
      "email\n",
      "skills\n",
      "projects_completed\n",
      "graduated\n",
      "fav_colors\n",
      "nickname\n"
     ]
    }
   ],
   "source": [
    "my_dict = {\n",
    "    'name': 'Alice',  # string\n",
    "    'age': 30,  # integer\n",
    "    'height': 5.6,  # float\n",
    "    'is_student': True,  # boolean\n",
    "    'grades': [95, 88, 78, 92],  # list of integers\n",
    "    'hobbies': ['reading', 'cycling', 'hiking'],  # list of strings\n",
    "    'fav_number': 7,  # integer\n",
    "    'email': 'alice@example.com',  # string\n",
    "    'skills': ('Python', 'JavaScript', 'SQL'),  # tuple of strings\n",
    "    'projects_completed': 12,  # integer\n",
    "    'graduated': False,  # boolean\n",
    "    'fav_colors': ['Blue', 'Green'],  # list of strings\n",
    "    'nickname': None,  # NoneType\n",
    "}\n",
    "\n",
    "#look at all the keys\n",
    "for key in my_dict.keys():\n",
    "  print(key)"
   ]
  },
  {
   "cell_type": "code",
   "execution_count": 23,
   "id": "718354e5",
   "metadata": {},
   "outputs": [
    {
     "name": "stdout",
     "output_type": "stream",
     "text": [
      "Alice\n",
      "30\n",
      "5.6\n",
      "True\n",
      "[95, 88, 78, 92]\n",
      "['reading', 'cycling', 'hiking']\n",
      "7\n",
      "alice@example.com\n",
      "('Python', 'JavaScript', 'SQL')\n",
      "12\n",
      "False\n",
      "['Blue', 'Green']\n",
      "None\n"
     ]
    }
   ],
   "source": [
    "#look at all the values\n",
    "for value in my_dict.values():\n",
    "  print(value)"
   ]
  },
  {
   "cell_type": "markdown",
   "id": "081f06fa",
   "metadata": {},
   "source": [
    "## Control Flows"
   ]
  },
  {
   "cell_type": "markdown",
   "id": "e8270bc8",
   "metadata": {},
   "source": [
    "A powerful feature of programming is **control**. There are 2 main forms of control in Python:\n",
    "\n",
    "\n",
    "*   **Selection:** Making a decision about how to proceed in a program, based on the value of some variables\n",
    "*   **Repetition:** Performing an operation over and over, either on different objects (for example each element of a list) or until some condition is met."
   ]
  },
  {
   "cell_type": "markdown",
   "id": "ece26a81",
   "metadata": {},
   "source": [
    "### Prerequisite: Booleans"
   ]
  },
  {
   "cell_type": "markdown",
   "id": "a028b943",
   "metadata": {},
   "source": [
    "In Python, there is a specific built-in data type to store booleans: the `bool` type. It is whether equal to `True` or `False`. To obtain a `bool` object, we need to use certain operators such as `!=`,`==`,`>`,`>=`,`<`,`<=` that compare objects and return a boolean."
   ]
  },
  {
   "cell_type": "code",
   "execution_count": 24,
   "id": "62a8b104",
   "metadata": {},
   "outputs": [],
   "source": [
    "# Let's do some quick examples on how to use comparison operators to produce booleans\n",
    "x = 5\n",
    "y = 6"
   ]
  },
  {
   "cell_type": "code",
   "execution_count": 25,
   "id": "695a871c",
   "metadata": {},
   "outputs": [
    {
     "name": "stdout",
     "output_type": "stream",
     "text": [
      "False\n"
     ]
    }
   ],
   "source": [
    "# What do you think this will return?\n",
    "print(x == y)"
   ]
  },
  {
   "cell_type": "code",
   "execution_count": 26,
   "id": "6298c220",
   "metadata": {},
   "outputs": [
    {
     "name": "stdout",
     "output_type": "stream",
     "text": [
      "True\n"
     ]
    }
   ],
   "source": [
    "# And what about this one?\n",
    "print(x+1 == y)"
   ]
  },
  {
   "cell_type": "code",
   "execution_count": 27,
   "id": "8bb36d34",
   "metadata": {},
   "outputs": [],
   "source": [
    "# You can also compare strings to check that there are in alphabetical order for instance\n",
    "string_1 = \"Hello\"\n",
    "string_2 = \"Bonjour\""
   ]
  },
  {
   "cell_type": "code",
   "execution_count": 28,
   "id": "b8fac1c3",
   "metadata": {},
   "outputs": [
    {
     "name": "stdout",
     "output_type": "stream",
     "text": [
      "True\n",
      "True\n",
      "False\n"
     ]
    }
   ],
   "source": [
    "# What should these return?\n",
    "print(string_1 > string_2)\n",
    "print(string_1 != string_2)\n",
    "print(string_1 < string_2)"
   ]
  },
  {
   "cell_type": "markdown",
   "id": "8eec0b73",
   "metadata": {},
   "source": [
    "You can also create more complex logic expressions resulting in booleans by using operators such as `and`,`or` or `not`. We will study this topic further through different examples along the course but feel free to look at these resources if you're willing to learn more on logic:\n",
    "\n",
    "\n",
    "*   [An introduction to basic logic](https://brewminate.com/an-introduction-to-basic-logic/) - From a philosophical standpoint but pretty useful!\n",
    "*   [Python Booleans](http://openbookproject.net/thinkcs/python/english3e/conditionals.html#truth-tables) - More Python oriented with some exercises if you want to go deeper\n"
   ]
  },
  {
   "cell_type": "markdown",
   "id": "59a53b48",
   "metadata": {},
   "source": [
    "### Selection: the `if` statement"
   ]
  },
  {
   "cell_type": "markdown",
   "id": "444ee0e3",
   "metadata": {},
   "source": [
    "In pseudo-code, `if` works as follows:\n",
    "\n",
    "\n",
    "```\n",
    "if ...:\n",
    "  action(s)\n",
    "```\n",
    "\n",
    "The `...` designates a boolean expression which is a condition for the `action(s)` to be taken. The `action(s)` will only be taken in the case when `...` is `True` i.e. the condition is satisfied."
   ]
  },
  {
   "cell_type": "code",
   "execution_count": 29,
   "id": "796ce480",
   "metadata": {},
   "outputs": [
    {
     "name": "stdout",
     "output_type": "stream",
     "text": [
      "Yes\n"
     ]
    }
   ],
   "source": [
    "# Simple if - Example 1\n",
    "if True:\n",
    "  print(\"Yes\")"
   ]
  },
  {
   "cell_type": "code",
   "execution_count": 30,
   "id": "5accdc2d",
   "metadata": {},
   "outputs": [
    {
     "name": "stdout",
     "output_type": "stream",
     "text": [
      "1 is less than 2\n"
     ]
    }
   ],
   "source": [
    "# Simple if - Example 2\n",
    "a = 1\n",
    "b = 2\n",
    "\n",
    "if a < b :\n",
    "  print(f\"{a} is less than {b}\") # Here, f-string enables you to replace the value of something within the string by a variable"
   ]
  },
  {
   "cell_type": "code",
   "execution_count": 31,
   "id": "08c80d98",
   "metadata": {},
   "outputs": [],
   "source": [
    "# Simple if - Example 3\n",
    "if a == b:\n",
    "  print(\"a and b are equal\")"
   ]
  },
  {
   "cell_type": "markdown",
   "id": "a7c1db78",
   "metadata": {},
   "source": [
    "**Warning:** `if` is a statement, not a variable so it shouldn't be used after an `=` sign for instance"
   ]
  },
  {
   "cell_type": "markdown",
   "id": "a15cdfb1",
   "metadata": {},
   "source": [
    "Let's see another type of statement:\n",
    "\n",
    "\n",
    "\n",
    "```\n",
    "if ...:\n",
    "  action A\n",
    "else:\n",
    "  action B\n",
    "\n",
    "action C\n",
    "```\n",
    "\n",
    "If `...` is `True`, the actions in the block `action A` will happen and we will jump directly to `action C`, skipping `action B`.\n",
    "\n",
    "Nevertheless, if `...` is `False`, `action A` will be skipped and `action B` will happen before jumping to `action C`."
   ]
  },
  {
   "cell_type": "code",
   "execution_count": 32,
   "id": "463d1423",
   "metadata": {},
   "outputs": [
    {
     "name": "stdout",
     "output_type": "stream",
     "text": [
      "b is greater than a\n"
     ]
    }
   ],
   "source": [
    "# if...else\n",
    "# Let's transform our previous if statement into several statements to cover the different cases\n",
    "if a >= b:\n",
    "  print(\"a is greater than or equal to b\")\n",
    "else:\n",
    "  print(\"b is greater than a\")"
   ]
  },
  {
   "cell_type": "markdown",
   "id": "faf7f4b8",
   "metadata": {},
   "source": [
    "Eventually, the `elif` statement  🎉\n",
    "\n",
    "\n",
    "\n",
    "```\n",
    "if condition_1:\n",
    "  action_A\n",
    "elif condition_2:\n",
    "  action_B\n",
    "else:\n",
    "  action_C\n",
    "\n",
    "action_D\n",
    "```\n",
    "\n",
    "First, the `condition_1` is evaluated and if it is `True`, then `action_A` is performed and followed by `action_D`.\n",
    "\n",
    "If `condition_1` was `False`, `condition_2` is evaluated and if it is `True`, `action_B` is performed and followed by `action_D`.\n",
    "\n",
    "Eventually, if `condition_1` and `condition_2` are both `False`, then `action_C` is performed and followed by `action_D`."
   ]
  },
  {
   "cell_type": "code",
   "execution_count": 33,
   "id": "abba66aa",
   "metadata": {},
   "outputs": [
    {
     "name": "stdout",
     "output_type": "stream",
     "text": [
      "b is greater than a\n",
      "Done!\n"
     ]
    }
   ],
   "source": [
    "# if...elif...else\n",
    "# Let's elaborate even more on our previous if statement to cover the case when a is equal to b as a separate case\n",
    "if a > b:\n",
    "  print(\"a is greater than b\")\n",
    "elif a < b:\n",
    "  print(\"b is greater than a\")\n",
    "else:\n",
    "  print(\"a and be are equal\")\n",
    "\n",
    "print(\"Done!\")"
   ]
  },
  {
   "cell_type": "markdown",
   "id": "b9962041",
   "metadata": {},
   "source": [
    "### Repetition: the `while` statement"
   ]
  },
  {
   "cell_type": "markdown",
   "id": "71917800",
   "metadata": {},
   "source": [
    "The `while` statement is useful to repeat an action until a boolean condition is reached. It looks like the following:\n",
    "\n",
    "\n",
    "\n",
    "```\n",
    "while boolean_condition:\n",
    "  actions\n",
    "```\n",
    "\n",
    "As long as the `boolean_condition` is met, the actions are performed. You need to pay careful attention to the condition to ensure that it doesn't create an infinite loop (at some point, the condition expression has to become `False`)."
   ]
  },
  {
   "cell_type": "code",
   "execution_count": 34,
   "id": "15a1eca4",
   "metadata": {},
   "outputs": [
    {
     "name": "stdout",
     "output_type": "stream",
     "text": [
      "Hello!\n",
      "Hello!\n",
      "Hello!\n",
      "Hello!\n",
      "Hello!\n"
     ]
    }
   ],
   "source": [
    "number_of_hellos = 5\n",
    "\n",
    "while number_of_hellos>0:\n",
    "  print('Hello!')\n",
    "  number_of_hellos-=1 # We are decreasing the number to make sure it will stop after 5 print"
   ]
  },
  {
   "cell_type": "markdown",
   "id": "9ab89355",
   "metadata": {},
   "source": [
    "### `break`"
   ]
  },
  {
   "cell_type": "markdown",
   "id": "5aa8e358",
   "metadata": {},
   "source": [
    "Sometimes, you want to interrupt a `while` loop using the `break` statement."
   ]
  },
  {
   "cell_type": "code",
   "execution_count": 35,
   "id": "8d1933f6",
   "metadata": {},
   "outputs": [
    {
     "name": "stdout",
     "output_type": "stream",
     "text": [
      "0\n",
      "1\n",
      "2\n",
      "3\n",
      "4\n",
      "5\n",
      "End\n"
     ]
    }
   ],
   "source": [
    "# Example where we want to stop once we reach n = 6\n",
    "\n",
    "n = 0\n",
    "while n < 10:\n",
    "  print(n)\n",
    "  n+=1\n",
    "  if n==6:\n",
    "    # Break the loop when 6 is reached\n",
    "    break\n",
    "print(\"End\")"
   ]
  },
  {
   "cell_type": "markdown",
   "id": "86ec11ad",
   "metadata": {},
   "source": [
    "### `continue`"
   ]
  },
  {
   "cell_type": "markdown",
   "id": "5e6871db",
   "metadata": {},
   "source": [
    "The `continue` statement skips the remaining lines of the suite and jumps back to the header."
   ]
  },
  {
   "cell_type": "code",
   "execution_count": 36,
   "id": "55594ae3",
   "metadata": {},
   "outputs": [
    {
     "name": "stdout",
     "output_type": "stream",
     "text": [
      "2\n",
      "4\n",
      "6\n",
      "8\n",
      "10\n"
     ]
    }
   ],
   "source": [
    "x = 0\n",
    "while x < 10:\n",
    "  x += 1\n",
    "  if x % 2 == 1: # x is an odd number\n",
    "    continue\n",
    "  print(x)"
   ]
  },
  {
   "cell_type": "markdown",
   "id": "bb78b7d6",
   "metadata": {},
   "source": [
    "## Functions"
   ]
  },
  {
   "cell_type": "markdown",
   "id": "26ad74fa",
   "metadata": {},
   "source": [
    "A function is a block of code that only runs when it is called. It is always defined with the keyword `def` as follows:\n",
    "\n",
    "\n",
    "```\n",
    "def function_name(arguments):\n",
    "  code\n",
    "```\n",
    "\n",
    "A function can have arguments, which will be specified within parentheses after the function name. If it doesn't, the function would just defined as:\n",
    "\n",
    "\n",
    "```\n",
    "def function_name():\n",
    "  code\n",
    "```"
   ]
  },
  {
   "cell_type": "code",
   "execution_count": 37,
   "id": "301bb357",
   "metadata": {},
   "outputs": [],
   "source": [
    "# Let's create a function that takes a string as an argument and prints \"Hello, my name is\" + the argument\n",
    "def my_first_function(my_name):\n",
    "  print(f\"Hello, my name is {my_name}!\")"
   ]
  },
  {
   "cell_type": "code",
   "execution_count": 38,
   "id": "647d1004",
   "metadata": {},
   "outputs": [
    {
     "name": "stdout",
     "output_type": "stream",
     "text": [
      "Hello, my name is Nina!\n"
     ]
    }
   ],
   "source": [
    "my_first_function(\"Nina\")"
   ]
  },
  {
   "cell_type": "code",
   "execution_count": 39,
   "id": "d340afad",
   "metadata": {},
   "outputs": [
    {
     "name": "stdout",
     "output_type": "stream",
     "text": [
      "Hello, my name is Geneva!\n"
     ]
    }
   ],
   "source": [
    "# A function is reusable without rewriting the code\n",
    "my_first_function(\"Geneva\")"
   ]
  },
  {
   "cell_type": "markdown",
   "id": "a3c47d89",
   "metadata": {},
   "source": [
    "You can define a function with more than one argument. Let's for instance create a function that returns the sum of two numbers!"
   ]
  },
  {
   "cell_type": "code",
   "execution_count": 40,
   "id": "3d3d0615",
   "metadata": {},
   "outputs": [],
   "source": [
    "def sum_two_numbers(a,b):\n",
    "  return a+b"
   ]
  },
  {
   "cell_type": "code",
   "execution_count": 41,
   "id": "f006e379",
   "metadata": {},
   "outputs": [],
   "source": [
    "x = sum_two_numbers(3,4)"
   ]
  },
  {
   "cell_type": "code",
   "execution_count": 42,
   "id": "d9d7c17a",
   "metadata": {},
   "outputs": [
    {
     "data": {
      "text/plain": [
       "7"
      ]
     },
     "execution_count": 42,
     "metadata": {},
     "output_type": "execute_result"
    }
   ],
   "source": [
    "x"
   ]
  },
  {
   "cell_type": "markdown",
   "id": "c14532e9",
   "metadata": {},
   "source": [
    "What we just did here is that we created a function and we used it to create a variable that stores the result of this function when taking in arguments a=3 and b=4.\n",
    "\n",
    "This is possible thanks to the use of the keywork `return` instead of `print` in the function."
   ]
  },
  {
   "cell_type": "code",
   "execution_count": 43,
   "id": "0e5b19fd",
   "metadata": {},
   "outputs": [
    {
     "name": "stdout",
     "output_type": "stream",
     "text": [
      "7\n"
     ]
    }
   ],
   "source": [
    "# If we wanted, we could print the value of the sum of the two numbers above as follows:\n",
    "print(sum_two_numbers(3,4))"
   ]
  },
  {
   "cell_type": "markdown",
   "id": "556cb33c",
   "metadata": {},
   "source": [
    "### Default parameter value"
   ]
  },
  {
   "cell_type": "markdown",
   "id": "3a1aa907",
   "metadata": {},
   "source": [
    "You can decide to assign a default value to the parameters of your function. If you do so, it means that when you don't specify any argument, the function will assume the value of the parameter is the one you set up by default."
   ]
  },
  {
   "cell_type": "code",
   "execution_count": 44,
   "id": "72ca08b1",
   "metadata": {},
   "outputs": [],
   "source": [
    "def print_my_class(class_number = \"Class 3\"):\n",
    "  print(\"My class is:\"+\" \"+class_number)"
   ]
  },
  {
   "cell_type": "code",
   "execution_count": 45,
   "id": "0ce3a359",
   "metadata": {},
   "outputs": [
    {
     "name": "stdout",
     "output_type": "stream",
     "text": [
      "My class is: Class 3\n"
     ]
    }
   ],
   "source": [
    "print_my_class()"
   ]
  },
  {
   "cell_type": "code",
   "execution_count": 46,
   "id": "d76b53c6",
   "metadata": {},
   "outputs": [
    {
     "name": "stdout",
     "output_type": "stream",
     "text": [
      "My class is: Class 1\n"
     ]
    }
   ],
   "source": [
    "print_my_class(\"Class 1\")"
   ]
  },
  {
   "cell_type": "markdown",
   "id": "8813f4c2",
   "metadata": {},
   "source": [
    "### Loops within functions - The case of `for` loops"
   ]
  },
  {
   "cell_type": "markdown",
   "id": "085c8425",
   "metadata": {},
   "source": [
    "The `for` keyword is used to iterate through objects like lists by applying a set of actions to the first element of the iterable object, then the second and so on:"
   ]
  },
  {
   "cell_type": "code",
   "execution_count": 47,
   "id": "49c7c95e",
   "metadata": {},
   "outputs": [],
   "source": [
    "# Here is an example with a list that contains strings (the ingredients required for a recipe)\n",
    "def recipe_ingredients(list_of_ingredients):\n",
    "  print(\"For this recipe, you will need:\")\n",
    "  for ingredient in list_of_ingredients:\n",
    "    print(\"- \" + ingredient)"
   ]
  },
  {
   "cell_type": "code",
   "execution_count": 48,
   "id": "f2751745",
   "metadata": {},
   "outputs": [
    {
     "name": "stdout",
     "output_type": "stream",
     "text": [
      "For this recipe, you will need:\n",
      "- water\n",
      "- flour\n",
      "- salt\n"
     ]
    }
   ],
   "source": [
    "pasta = [\"water\", \"flour\", \"salt\"]\n",
    "recipe_ingredients(pasta)"
   ]
  },
  {
   "cell_type": "markdown",
   "id": "6727b25e",
   "metadata": {},
   "source": [
    "A usual use case of `for` loops is to iterate through a set of consecutive integers.\n",
    "\n",
    "You'll often see ```for i in range(n):```. This will go through all integers starting at 0 up to n **excluded**."
   ]
  },
  {
   "cell_type": "code",
   "execution_count": 49,
   "id": "1aa86a5c",
   "metadata": {},
   "outputs": [],
   "source": [
    "def sum_until(number):\n",
    "  count = 0\n",
    "  for i in range(number+1): # Why do you think we added +1 in the range?\n",
    "    count += i\n",
    "  return count"
   ]
  },
  {
   "cell_type": "code",
   "execution_count": 50,
   "id": "ce083410",
   "metadata": {},
   "outputs": [
    {
     "data": {
      "text/plain": [
       "0"
      ]
     },
     "execution_count": 50,
     "metadata": {},
     "output_type": "execute_result"
    }
   ],
   "source": [
    "sum_until(0)"
   ]
  },
  {
   "cell_type": "code",
   "execution_count": 51,
   "id": "51b7fa6f",
   "metadata": {},
   "outputs": [
    {
     "data": {
      "text/plain": [
       "1"
      ]
     },
     "execution_count": 51,
     "metadata": {},
     "output_type": "execute_result"
    }
   ],
   "source": [
    "sum_until(1)"
   ]
  },
  {
   "cell_type": "code",
   "execution_count": 52,
   "id": "37406805",
   "metadata": {},
   "outputs": [
    {
     "data": {
      "text/plain": [
       "3"
      ]
     },
     "execution_count": 52,
     "metadata": {},
     "output_type": "execute_result"
    }
   ],
   "source": [
    "sum_until(2)"
   ]
  },
  {
   "cell_type": "code",
   "execution_count": 53,
   "id": "c2cfc2f6",
   "metadata": {},
   "outputs": [
    {
     "data": {
      "text/plain": [
       "6"
      ]
     },
     "execution_count": 53,
     "metadata": {},
     "output_type": "execute_result"
    }
   ],
   "source": [
    "sum_until(3)"
   ]
  },
  {
   "cell_type": "markdown",
   "id": "804e95f4",
   "metadata": {},
   "source": [
    "### Pass statement"
   ]
  },
  {
   "cell_type": "markdown",
   "id": "6eb8a811",
   "metadata": {},
   "source": [
    "Functions cannot be empty but if for any reason, you need to have an empty action block, you should use the keyword pass. It is usually used as a placeholder for future code."
   ]
  },
  {
   "cell_type": "code",
   "execution_count": 54,
   "id": "f063ed78",
   "metadata": {},
   "outputs": [],
   "source": [
    "# pass used as a placeholder\n",
    "def random_function():\n",
    "  pass"
   ]
  },
  {
   "cell_type": "code",
   "execution_count": 57,
   "id": "f22876c7",
   "metadata": {},
   "outputs": [
    {
     "ename": "SyntaxError",
     "evalue": "incomplete input (1243818504.py, line 2)",
     "output_type": "error",
     "traceback": [
      "\u001b[0;36m  Cell \u001b[0;32mIn[57], line 2\u001b[0;36m\u001b[0m\n\u001b[0;31m    def random_function_without_pass():\u001b[0m\n\u001b[0m                                       ^\u001b[0m\n\u001b[0;31mSyntaxError\u001b[0m\u001b[0;31m:\u001b[0m incomplete input\n"
     ]
    }
   ],
   "source": [
    "# what would happen if we didn't have the keyword pass and still run the cell?\n",
    "def random_function_without_pass():"
   ]
  },
  {
   "cell_type": "markdown",
   "id": "486be250",
   "metadata": {},
   "source": [
    "Now, let's see another interesting use of `pass`. Sometimes, you only want to make actions in a specific case but not the other situations. Then, you can use `pass` like below:"
   ]
  },
  {
   "cell_type": "code",
   "execution_count": 55,
   "id": "b427e884",
   "metadata": {},
   "outputs": [],
   "source": [
    "def print_characters_different_from_a(list_of_characters):\n",
    "  for i in list_of_characters:\n",
    "    if(i =='a'):\n",
    "        pass\n",
    "    else:\n",
    "        print(i)"
   ]
  },
  {
   "cell_type": "code",
   "execution_count": 56,
   "id": "f684157a",
   "metadata": {},
   "outputs": [
    {
     "name": "stdout",
     "output_type": "stream",
     "text": [
      "b\n",
      "c\n",
      "d\n",
      "b\n",
      "e\n"
     ]
    }
   ],
   "source": [
    "print_characters_different_from_a(['a','b','c','d','a','b','e'])"
   ]
  },
  {
   "cell_type": "markdown",
   "id": "d12ac8dc",
   "metadata": {},
   "source": [
    "## Exercises - Let's practice!"
   ]
  },
  {
   "cell_type": "markdown",
   "id": "87c292ed",
   "metadata": {},
   "source": [
    "### Exercise 1 - Number Guessing Game\n",
    "\n",
    "Topics: *variables, control flows*\n",
    "\n",
    "In this problem you will implement a simple guessing game.\n",
    "\n",
    "First, the program should choose a secret number x between 1 and 10. Use the `randint` function in the random module (`random.randint()`) to pick a random number.\n",
    "\n",
    "Then, the program should prompt the user to type in a number. If the player guesses x correctly, the program should print a message and terminate.\n",
    "\n",
    "Otherwise, the program should print a hint and then ask the user for another guess:  \n",
    "* if the difference between x and the guess is greater than 5, the program prints ‘not even close’.\n",
    "* if the difference between x and the guess is between 2 and 5 (inclusive), the program prints ‘close’.\n",
    "* if the difference between x and the guess is less than 2, the program prints ‘almost there’.\n",
    "\n",
    "The program should repeatedly ask the user for another input until the user guesses correctly or until there were five incorrect guesses. The program should keep track of the number of guesses. If the user cannot guess x in their fifth guess, the program informs her that the game is lost and quits.\n",
    "\n",
    "Make sure to convert the user input into an int. Use a loop to ask for guesses and print hints repeatedly.\n",
    "\n",
    "You can use the template below:"
   ]
  },
  {
   "cell_type": "code",
   "execution_count": null,
   "id": "8c4b7d8c",
   "metadata": {},
   "outputs": [],
   "source": [
    "\"\"\"\n",
    "GWC-CU\n",
    "Week 1 Exercise - Number Guessing Game\n",
    "\"\"\"\n",
    "\n",
    "import random\n",
    "\n",
    "# Generate a random number between 1-10 (inclusive both ends)\n",
    "secret_number = random.randint(1,10)\n",
    "\n",
    "# Create a variable to keep track of the number of attempts made by the user\n",
    "num_of_attempts = 0\n",
    "\n",
    "# While the number of attempts is still less than 5\n",
    "while num_of_attempts < 5:\n",
    "  # Ask the user for an input and store it in a variable\n",
    "  user_input = int(input(\"Guess a number between 1-10: \"))\n",
    "  \n",
    "  # What are the next steps to complete the program?\n",
    "  # Important! Before you start writing code, begin with pseudocode and ask any question in the chat\n",
    "\n",
    "  # ENTER YOUR CODE HERE"
   ]
  },
  {
   "cell_type": "markdown",
   "id": "fdca633d",
   "metadata": {},
   "source": [
    "Here is the proposed solution for this exercise as presented in class:"
   ]
  },
  {
   "cell_type": "code",
   "execution_count": null,
   "id": "6e12f8c0",
   "metadata": {},
   "outputs": [],
   "source": [
    "\"\"\"\n",
    "GWC-CU\n",
    "Week 1 Exercise - Number Guessing Game - Solution\n",
    "\"\"\"\n",
    "\n",
    "import random\n",
    "\n",
    "# Generate a random number between 1-10 (inclusive both ends)\n",
    "secret_number = random.randint(1,10)\n",
    "\n",
    "# Create a variable to keep track of the number of attempts made by the user\n",
    "num_of_attempts = 0\n",
    "\n",
    "# While the number of attempts is still less than 5\n",
    "while num_of_attempts < 5:\n",
    "  # Ask user for an input and store it in a variable\n",
    "  user_input = int(input(\"Guess a number between 1-10: \"))\n",
    "\n",
    "  # What are the next steps to complete the program?\n",
    "  # Important! Before you start writing code, begin with pseudocode and ask any question in the chat\n",
    "\n",
    "  # We start with the case when the guessed number is correct\n",
    "  if user_input == secret_number:\n",
    "    print(\"Well done!\")\n",
    "    break # As we guessed the right number, we want to break the while loop and stop asking for the user's input\n",
    "\n",
    "  # Now, we move to the case when the absolute value of the difference between the two numbers is >5\n",
    "  elif abs(user_input-secret_number)>5:\n",
    "    print(\"Not even close\")\n",
    "\n",
    "  # If none of the previous conditions were satisfied, we check if the difference is between 2 and 5 (inclusive)\n",
    "  elif abs(user_input-secret_number)>=2 and abs(user_input-secret_number)<=5:\n",
    "    print(\"Close\")\n",
    "\n",
    "  # Eventually, if no previous condition was met, it means that the difference is 1\n",
    "  else:\n",
    "    print(\"Almost there!\")\n",
    "\n",
    "  num_of_attempts+=1"
   ]
  },
  {
   "cell_type": "markdown",
   "id": "df2c8f06",
   "metadata": {},
   "source": [
    "### Exercise 2 - Pig Latin\n",
    "\n",
    "Topics: *variables, string, slicing, control flows*\n",
    "\n",
    "Pig Latin is a language game in which words are altered according to certain rules. \n",
    "\n",
    "To make the Pig Latin form of an English word, the initial consonant sound is transposed to the end of the word, and an \"ay\" is affixed. Specifically, there are two rules: \n",
    "\n",
    "1. If a word begins with a vowel, append \"yay\" to the end of the word. \n",
    "2. If a word begins with a consonant, remove all the consonants from the beginning up to the first vowel and append them to the end of the word. Finally, append \"ay\" to the end of the word. The letter \"y\" counts as a consonant. If there are no vowels, simply append \"ay\" to the end of the word. \n",
    "\n",
    "For example: \n",
    "* dog => ogday\n",
    "* python => onpythay\n",
    "* scratch => atchscray\n",
    "* is => isyay\n",
    "* apple => appleyay\n",
    "\n",
    "Write a program that asks the user for an input String `word` and then prints the Pig Latin translation of the word. You can assume that the input is always a lower-case string (no input verification is necessary). \n",
    "\n",
    "**Hints:** Use indexing and slicing. You might also want to use a string of vowels and then use the in operator to check if a letter is a vowel.\n",
    "\n",
    "`vowels = 'aeiou'`"
   ]
  },
  {
   "cell_type": "code",
   "execution_count": null,
   "id": "aef7d30c",
   "metadata": {},
   "outputs": [],
   "source": [
    "\"\"\"\n",
    "GWC-CU\n",
    "Week 1 Exercise - Pig Latin\n",
    "\"\"\"\n",
    "\n",
    "\"\"\"\n",
    "Notes: In this case, our function is called \"piggify\". It takes an English word (string) and returns a pig latin version of this word (string).\n",
    "\n",
    "Intructions: Fill in the logic of the piggify function!\n",
    "\"\"\"\n",
    "def piggify(word):\n",
    "    # ENTER YOUR CODE HERE\n",
    "    return word # You will have to change this line later\n",
    "  \n",
    "# Can you decipher what this while loop does? Try running this program and see what it does.\n",
    "while True:\n",
    "    user_response = input('Tell me a word: ')\n",
    "    if user_response == '.':\n",
    "        break\n",
    "    print(piggify(user_response))"
   ]
  },
  {
   "cell_type": "markdown",
   "id": "7e23d2f1",
   "metadata": {},
   "source": [
    "One way to complete this exercise is as follows:"
   ]
  },
  {
   "cell_type": "code",
   "execution_count": null,
   "id": "69d40d82",
   "metadata": {},
   "outputs": [],
   "source": [
    "\"\"\"\n",
    "GWC-CU\n",
    "Week 1 Exercise - Pig Latin\n",
    "\"\"\"\n",
    "\n",
    "\"\"\"\n",
    "Notes: In this case, our function is called \"piggify\". It takes an English word (string) and returns a pig latin version of this word (string).\n",
    "\n",
    "Intructions: Fill in the logic of the piggify function!\n",
    "\"\"\"\n",
    "def piggify(word):\n",
    "    vowels = 'aeiou'\n",
    "\n",
    "    # Check whether the first letter is a vowel\n",
    "    if word[0] in vowels:\n",
    "      word+='yay' # We add yay at the end of the word\n",
    "\n",
    "    # We also need to check that there are some vowels in the word\n",
    "    elif any(char in vowels for char in word):\n",
    "      while word[0] not in vowels: # Iterate through the word until you find the first vowel\n",
    "        word = word[1:]+word[0] # Move the consonant to the end of the word\n",
    "\n",
    "      word +='ay' # Add the 'ay' suffix\n",
    "\n",
    "    # Otherwise, we simply append ay at the end of the word\n",
    "    else:\n",
    "      word += 'ay'\n",
    "\n",
    "    return word\n",
    "\n",
    "# Can you decipher what this while loop does? Try running this program and see what it does.\n",
    "while True:\n",
    "    user_response = input('Tell me a word: ')\n",
    "    if user_response == '.':\n",
    "        break\n",
    "    print(piggify(user_response))"
   ]
  },
  {
   "cell_type": "markdown",
   "id": "f6f663f8",
   "metadata": {},
   "source": [
    "We hope you enjoyed this week's session :)\n",
    "\n",
    "Please take some time to review the concepts seen today and ask us any question you have on Slack (on the canal or in DM to Nina or Geneva), we will be more than happy to answer them!\n",
    "\n",
    "See you next week!!!"
   ]
  },
  {
   "cell_type": "code",
   "execution_count": null,
   "id": "8daa4f76",
   "metadata": {},
   "outputs": [],
   "source": []
  }
 ],
 "metadata": {
  "kernelspec": {
   "display_name": "Python 3 (ipykernel)",
   "language": "python",
   "name": "python3"
  },
  "language_info": {
   "codemirror_mode": {
    "name": "ipython",
    "version": 3
   },
   "file_extension": ".py",
   "mimetype": "text/x-python",
   "name": "python",
   "nbconvert_exporter": "python",
   "pygments_lexer": "ipython3",
   "version": "3.11.4"
  }
 },
 "nbformat": 4,
 "nbformat_minor": 5
}
